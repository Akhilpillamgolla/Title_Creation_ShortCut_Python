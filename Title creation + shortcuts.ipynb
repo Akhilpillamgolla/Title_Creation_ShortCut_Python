{
 "cells": [
  {
   "cell_type": "markdown",
   "metadata": {},
   "source": [
    "# title creation"
   ]
  },
  {
   "cell_type": "raw",
   "metadata": {},
   "source": [
    "Using markdown we can create a title \n",
    "syntax # title(space is must after you use #)\n",
    "if you want to minimize the size of the title we can use ### (multiple times) "
   ]
  },
  {
   "cell_type": "markdown",
   "metadata": {},
   "source": [
    "## small title"
   ]
  },
  {
   "cell_type": "markdown",
   "metadata": {},
   "source": [
    "### smaller title"
   ]
  },
  {
   "cell_type": "markdown",
   "metadata": {},
   "source": [
    "#### smallest title"
   ]
  },
  {
   "cell_type": "markdown",
   "metadata": {},
   "source": [
    "###### even more small"
   ]
  },
  {
   "cell_type": "markdown",
   "metadata": {},
   "source": [
    "# some shortcuts in Jupiter \n",
    "## To Run & move to next cell - shift + entre \n",
    "## To Run & stay on same cell -  shift + entre \n",
    "## esc + M \n",
    "## esc + a (to create cell above)\n",
    "## esc + b (to create cell below)\n",
    "## esc + D+D (to delete the cell)\n",
    "## esc + Y (to switch back to code)"
   ]
  },
  {
   "cell_type": "raw",
   "metadata": {},
   "source": [
    "## <br/> - this is break that help us make run each in next line. \n",
    "\n",
    "for extra spaces we can use &nbsp;&nbsp;&nbsp; as markup dont take indentation "
   ]
  },
  {
   "cell_type": "markdown",
   "metadata": {},
   "source": [
    "# Create a slideshow out of your notebook (this work in jupiter not in vscode)\n",
    "## view --> cell toolbar --> slideshow"
   ]
  },
  {
   "cell_type": "raw",
   "metadata": {},
   "source": [
    "Slides - Main option <br/>\n",
    "Sub-slide - fill full screen <br/>\n",
    "Fragments - underneath slide/sub-slide add additional information <br/>\n",
    "Skip - don't include cell <br/>\n",
    "Notes - don't include cell <br/>\n"
   ]
  }
 ],
 "metadata": {
  "kernelspec": {
   "display_name": "Python 3",
   "language": "python",
   "name": "python3"
  },
  "language_info": {
   "codemirror_mode": {
    "name": "ipython",
    "version": 3
   },
   "file_extension": ".py",
   "mimetype": "text/x-python",
   "name": "python",
   "nbconvert_exporter": "python",
   "pygments_lexer": "ipython3",
   "version": "3.12.2"
  }
 },
 "nbformat": 4,
 "nbformat_minor": 2
}
